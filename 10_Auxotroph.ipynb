{
 "cells": [
  {
   "cell_type": "code",
   "execution_count": 22,
   "metadata": {},
   "outputs": [],
   "source": [
    "import os\n",
    "import cobra\n",
    "import reframed\n",
    "from reframed.core.environment import Environment\n",
    "from reframed.cobra.simulation import FBA\n",
    "from reframed.solvers import solver_instance\n",
    "from reframed.solvers.solution import Status\n",
    "from warnings import warn\n",
    "\n",
    "path = '/mnt/Local_Disk_1/2_Hospital_Microbiome/Data/Modeling/Models/'"
   ]
  },
  {
   "cell_type": "code",
   "execution_count": 23,
   "metadata": {},
   "outputs": [],
   "source": [
    "def auxotrophies(model, constraints=None, min_rel_growth=1e-2, min_abs_growth=1e-5):\n",
    "\n",
    "    solver = solver_instance(model)\n",
    "\n",
    "    if not constraints:\n",
    "        constraints = Environment.complete(model, inplace=False)\n",
    "\n",
    "    sol = FBA(model, constraints=constraints, solver=solver, get_values=False)\n",
    "\n",
    "    if sol.status != Status.OPTIMAL or sol.fobj < min_abs_growth:\n",
    "        warn(\"Organism does not grow in given medium.\")\n",
    "        return\n",
    "    else:\n",
    "        ref_growth = sol.fobj\n",
    "\n",
    "    auxo = []\n",
    "\n",
    "    for r_id in model.get_exchange_reactions():\n",
    "        tmp_lb, tmp_ub = constraints[r_id]\n",
    "        constraints[r_id] = (0, tmp_ub)\n",
    "\n",
    "        sol = FBA(model, constraints=constraints, solver=solver, get_values=False)\n",
    "        if sol.fobj < min_abs_growth or sol.fobj < min_rel_growth * ref_growth:\n",
    "            auxo.append(r_id)\n",
    "\n",
    "        constraints[r_id] = (tmp_lb, tmp_ub)\n",
    "\n",
    "    return auxo"
   ]
  },
  {
   "cell_type": "code",
   "execution_count": 24,
   "metadata": {},
   "outputs": [],
   "source": [
    "# model auxotrophy list\n",
    "aux_dict = {}\n",
    "\n",
    "for models in os.listdir(path):\n",
    "    if models.endswith('.xml'):\n",
    "        model = reframed.load_cbmodel(path + models)\n",
    "\n",
    "        # Auxotrophy\n",
    "        aux = auxotrophies(model)\n",
    "\n",
    "        # Store auxotrophies\n",
    "        aux_dict[models] = aux\n",
    "        "
   ]
  }
 ],
 "metadata": {
  "kernelspec": {
   "display_name": "modeling",
   "language": "python",
   "name": "python3"
  },
  "language_info": {
   "codemirror_mode": {
    "name": "ipython",
    "version": 3
   },
   "file_extension": ".py",
   "mimetype": "text/x-python",
   "name": "python",
   "nbconvert_exporter": "python",
   "pygments_lexer": "ipython3",
   "version": "3.10.15"
  }
 },
 "nbformat": 4,
 "nbformat_minor": 2
}
