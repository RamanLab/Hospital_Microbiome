{
 "cells": [
  {
   "cell_type": "code",
   "execution_count": 1,
   "metadata": {},
   "outputs": [],
   "source": [
    "# ------------------------------------------\n",
    "# Script: 4 (Model_reconstruction.ipynb)\n",
    "# ------------------------------------------\n",
    "# Author: Pratyay Sengupta\n",
    "# ------------------------------------------"
   ]
  },
  {
   "cell_type": "code",
   "execution_count": 2,
   "metadata": {},
   "outputs": [],
   "source": [
    "# Import required libraries\n",
    "import glob\n",
    "import os\n",
    "import pandas as pd\n",
    "\n",
    "\n",
    "# Set data directories\n",
    "input_dir = '/mnt/Local_Disk_1/2_Hospital_Microbiome/Data/Input_data/'\n",
    "output_dir = '/mnt/Local_Disk_1/2_Hospital_Microbiome/Data/Output_data/'   \n",
    "model_dir = '/mnt/Local_Disk_1/2_Hospital_Microbiome/Data/Modeling/Models/'\n",
    "figures_dir = '/mnt/Local_Disk_1/2_Hospital_Microbiome/Data/Figures/'"
   ]
  },
  {
   "cell_type": "code",
   "execution_count": 3,
   "metadata": {},
   "outputs": [],
   "source": [
    "# --------------------------------------------------------\n",
    "# Load input data\n",
    "# --------------------------------------------------------\n",
    "\n",
    "# Load gram staining information\n",
    "staining_info = pd.read_csv(input_dir + 'gram_staining.csv', sep=',', index_col=\"organism_name\")\n",
    "\n",
    "# Load genome assembly information\n",
    "genome_info = pd.read_csv(output_dir + '2_genome_details.csv', sep=',', index_col=\"organism_name\")\n",
    "genome_info = genome_info[[\"assembly_accession\"]]  # Keep only accession info\n",
    "\n",
    "# Standardize organism names: keep only Genus species (first two words)\n",
    "genome_info.index = genome_info.index.to_series().apply(lambda x: ' '.join(x.split()[:2]))"
   ]
  },
  {
   "cell_type": "code",
   "execution_count": 4,
   "metadata": {},
   "outputs": [],
   "source": [
    "# --------------------------------------------------------\n",
    "# Merge datasets and save\n",
    "# --------------------------------------------------------\n",
    "\n",
    "# Merge genome info with gram staining info\n",
    "genome_info = genome_info.merge(staining_info, left_index=True, right_index=True)\n",
    "\n",
    "# Save the merged genome information for modeling\n",
    "genome_info.to_csv(output_dir + 'genome_details_modeling.tsv', sep='\\t')\n",
    "\n",
    "# Save list of accession IDs separately\n",
    "accessions = genome_info['assembly_accession'].to_list()\n",
    "accession_path = output_dir + 'accession.list'\n",
    "\n",
    "with open(accession_path, 'w') as f:\n",
    "    for accession in accessions:\n",
    "        f.write(\"%s\\n\" % accession)"
   ]
  },
  {
   "cell_type": "code",
   "execution_count": 5,
   "metadata": {},
   "outputs": [],
   "source": [
    "# --------------------------------------------------------\n",
    "# Download assemblies and annotate (external terminal steps)\n",
    "# --------------------------------------------------------\n",
    "\n",
    "# Terminal Commands (not in script):\n",
    "# conda activate bit\n",
    "# bit-dl-ncbi-assemblies -w accession.list -j 80 -f fasta\n",
    "# gunzip *.gz\n",
    "\n",
    "# Run Prokka annotation (also external):\n",
    "# for file in *.fasta; do prokka --outdir ../Prokka_Annotation/\"$file\" --prefix \"$file\" --cpus 40 \"$file\"; done"
   ]
  },
  {
   "cell_type": "code",
   "execution_count": 6,
   "metadata": {},
   "outputs": [
    {
     "name": "stdout",
     "output_type": "stream",
     "text": [
      "Generated bash commands written to /mnt/Local_Disk_1/2_Hospital_Microbiome/Data/Modeling/Models/generate_models.sh\n"
     ]
    }
   ],
   "source": [
    "# --------------------------------------------------------\n",
    "# Generate Bash script to run model reconstruction using CarveMe\n",
    "# --------------------------------------------------------\n",
    "\n",
    "# Paths\n",
    "carve_file_path = model_dir + 'generate_models.sh'\n",
    "annotated_file_path = '/mnt/Local_Disk_1/2_Hospital_Microbiome/Data/Modeling/Annotated_genomes/'\n",
    "\n",
    "# Write the carve bash script\n",
    "with open(carve_file_path, \"w\") as f:\n",
    "    f.write(\"#!/bin/bash\\n\")\n",
    "    for idx, row in genome_info.iterrows():\n",
    "        # Carve command with gram staining-specific settings\n",
    "        stain_type = 'grampos' if row['gram_staining'] == 'positive' else 'gramneg'\n",
    "        f.write(f\"carve {annotated_file_path}{row['assembly_accession']}.faa -o {idx.replace(' ', '_')}.xml --solver cplex -u {stain_type}\\n\")\n",
    "        f.write(f\"echo {idx} model is done\\n\")\n",
    "\n",
    "print(f\"Generated bash commands written to {carve_file_path}\")"
   ]
  },
  {
   "cell_type": "code",
   "execution_count": 7,
   "metadata": {},
   "outputs": [],
   "source": [
    "# --------------------------------------------------------\n",
    "# Run the model reconstruction (run once manually)\n",
    "# --------------------------------------------------------\n",
    "\n",
    "# Change working directory\n",
    "os.chdir(model_dir)\n",
    "\n",
    "# Make script executable and run (Uncomment when running interactively)\n",
    "# !chmod +x {carve_file_path}\n",
    "# !./{carve_file_path}"
   ]
  },
  {
   "cell_type": "code",
   "execution_count": 8,
   "metadata": {},
   "outputs": [
    {
     "data": {
      "text/html": [
       "<div>\n",
       "<style scoped>\n",
       "    .dataframe tbody tr th:only-of-type {\n",
       "        vertical-align: middle;\n",
       "    }\n",
       "\n",
       "    .dataframe tbody tr th {\n",
       "        vertical-align: top;\n",
       "    }\n",
       "\n",
       "    .dataframe thead th {\n",
       "        text-align: right;\n",
       "    }\n",
       "</style>\n",
       "<table border=\"1\" class=\"dataframe\">\n",
       "  <thead>\n",
       "    <tr style=\"text-align: right;\">\n",
       "      <th></th>\n",
       "      <th>assembly_accession</th>\n",
       "      <th>gram_staining</th>\n",
       "    </tr>\n",
       "    <tr>\n",
       "      <th>organism_name</th>\n",
       "      <th></th>\n",
       "      <th></th>\n",
       "    </tr>\n",
       "  </thead>\n",
       "  <tbody>\n",
       "  </tbody>\n",
       "</table>\n",
       "</div>"
      ],
      "text/plain": [
       "Empty DataFrame\n",
       "Columns: [assembly_accession, gram_staining]\n",
       "Index: []"
      ]
     },
     "execution_count": 8,
     "metadata": {},
     "output_type": "execute_result"
    }
   ],
   "source": [
    "# --------------------------------------------------------\n",
    "# Check generated models\n",
    "# --------------------------------------------------------\n",
    "\n",
    "# List all generated XML models\n",
    "models = glob.glob(model_dir + '*.xml')\n",
    "models = [os.path.basename(m).replace('.xml', '').replace('_', ' ') for m in models]\n",
    "\n",
    "# Check which genomes did not get models\n",
    "model_ng = list(set(genome_info.index) - set(models))\n",
    "\n",
    "# Print missing genome information\n",
    "missing_genome_info = genome_info.loc[model_ng]\n",
    "\n",
    "missing_genome_info"
   ]
  }
 ],
 "metadata": {
  "kernelspec": {
   "display_name": "py3.10",
   "language": "python",
   "name": "python3"
  },
  "language_info": {
   "codemirror_mode": {
    "name": "ipython",
    "version": 3
   },
   "file_extension": ".py",
   "mimetype": "text/x-python",
   "name": "python",
   "nbconvert_exporter": "python",
   "pygments_lexer": "ipython3",
   "version": "3.10.15"
  }
 },
 "nbformat": 4,
 "nbformat_minor": 2
}
