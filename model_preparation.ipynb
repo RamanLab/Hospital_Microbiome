{
 "cells": [
  {
   "cell_type": "code",
   "execution_count": 1,
   "metadata": {},
   "outputs": [],
   "source": [
    "# Import necessary packages\n",
    "import glob\n",
    "import os\n",
    "import pandas as pd\n",
    "\n",
    "# Set the directory path\n",
    "figure_path = '/mnt/Local_Disk_1/Hospital_Microbiome/Data/Figures/'\n",
    "input_path = '/mnt/Local_Disk_1/Hospital_Microbiome/Data/Input_data/'\n",
    "model_path = '/mnt/Local_Disk_1/Hospital_Microbiome/Data/Modeling/Models/'\n",
    "output_path = '/mnt/Local_Disk_1/Hospital_Microbiome/Data/Output_data/'"
   ]
  },
  {
   "cell_type": "code",
   "execution_count": 8,
   "metadata": {},
   "outputs": [
    {
     "data": {
      "text/html": [
       "<div>\n",
       "<style scoped>\n",
       "    .dataframe tbody tr th:only-of-type {\n",
       "        vertical-align: middle;\n",
       "    }\n",
       "\n",
       "    .dataframe tbody tr th {\n",
       "        vertical-align: top;\n",
       "    }\n",
       "\n",
       "    .dataframe thead th {\n",
       "        text-align: right;\n",
       "    }\n",
       "</style>\n",
       "<table border=\"1\" class=\"dataframe\">\n",
       "  <thead>\n",
       "    <tr style=\"text-align: right;\">\n",
       "      <th></th>\n",
       "      <th>assembly_accession</th>\n",
       "      <th>gram_staining</th>\n",
       "    </tr>\n",
       "    <tr>\n",
       "      <th>organism_name</th>\n",
       "      <th></th>\n",
       "      <th></th>\n",
       "    </tr>\n",
       "  </thead>\n",
       "  <tbody>\n",
       "    <tr>\n",
       "      <th>Abiotrophia defectiva</th>\n",
       "      <td>GCF_000160075.2</td>\n",
       "      <td>positive</td>\n",
       "    </tr>\n",
       "    <tr>\n",
       "      <th>Achromobacter xylosoxidans</th>\n",
       "      <td>GCF_000165835.1</td>\n",
       "      <td>negative</td>\n",
       "    </tr>\n",
       "    <tr>\n",
       "      <th>Acinetobacter baumannii</th>\n",
       "      <td>GCF_000069245.1</td>\n",
       "      <td>negative</td>\n",
       "    </tr>\n",
       "    <tr>\n",
       "      <th>Acinetobacter johnsonii</th>\n",
       "      <td>GCF_000302335.1</td>\n",
       "      <td>negative</td>\n",
       "    </tr>\n",
       "    <tr>\n",
       "      <th>Acinetobacter junii</th>\n",
       "      <td>GCF_000162075.1</td>\n",
       "      <td>negative</td>\n",
       "    </tr>\n",
       "    <tr>\n",
       "      <th>...</th>\n",
       "      <td>...</td>\n",
       "      <td>...</td>\n",
       "    </tr>\n",
       "    <tr>\n",
       "      <th>Stutzerimonas stutzeri</th>\n",
       "      <td>GCF_000013785.1</td>\n",
       "      <td>negative</td>\n",
       "    </tr>\n",
       "    <tr>\n",
       "      <th>Veillonella atypica</th>\n",
       "      <td>GCF_000179755.1</td>\n",
       "      <td>negative</td>\n",
       "    </tr>\n",
       "    <tr>\n",
       "      <th>Veillonella parvula</th>\n",
       "      <td>GCF_000024945.1</td>\n",
       "      <td>negative</td>\n",
       "    </tr>\n",
       "    <tr>\n",
       "      <th>Xanthomonas citri</th>\n",
       "      <td>GCF_000175155.1</td>\n",
       "      <td>negative</td>\n",
       "    </tr>\n",
       "    <tr>\n",
       "      <th>[Ruminococcus] torques</th>\n",
       "      <td>GCF_000153925.1</td>\n",
       "      <td>positive</td>\n",
       "    </tr>\n",
       "  </tbody>\n",
       "</table>\n",
       "<p>114 rows × 2 columns</p>\n",
       "</div>"
      ],
      "text/plain": [
       "                           assembly_accession gram_staining\n",
       "organism_name                                              \n",
       "Abiotrophia defectiva         GCF_000160075.2      positive\n",
       "Achromobacter xylosoxidans    GCF_000165835.1      negative\n",
       "Acinetobacter baumannii       GCF_000069245.1      negative\n",
       "Acinetobacter johnsonii       GCF_000302335.1      negative\n",
       "Acinetobacter junii           GCF_000162075.1      negative\n",
       "...                                       ...           ...\n",
       "Stutzerimonas stutzeri        GCF_000013785.1      negative\n",
       "Veillonella atypica           GCF_000179755.1      negative\n",
       "Veillonella parvula           GCF_000024945.1      negative\n",
       "Xanthomonas citri             GCF_000175155.1      negative\n",
       "[Ruminococcus] torques        GCF_000153925.1      positive\n",
       "\n",
       "[114 rows x 2 columns]"
      ]
     },
     "execution_count": 8,
     "metadata": {},
     "output_type": "execute_result"
    }
   ],
   "source": [
    "# Load the gram staining information file\n",
    "staining_info = pd.read_csv(input_path + 'gram_staining.csv', sep=',', index_col=\"organism_name\")\n",
    "staining_info\n",
    "\n",
    "# Load the genome information file\n",
    "genome_info = pd.read_csv(output_path + 'genome_details.csv', sep=',', index_col=\"organism_name\")\n",
    "genome_info = genome_info[[\"assembly_accession\"]]\n",
    "\n",
    "# Matching index\n",
    "genome_info.index = genome_info.index.to_series().apply(lambda x: ' '.join(x.split()[:2]))\n",
    "\n",
    "# Merge the two dataframes\n",
    "genome_info = genome_info.merge(staining_info, left_index=True, right_index=True)\n",
    "\n",
    "genome_info"
   ]
  },
  {
   "cell_type": "code",
   "execution_count": 4,
   "metadata": {},
   "outputs": [
    {
     "name": "stdout",
     "output_type": "stream",
     "text": [
      "Generated bash commands written to /mnt/Local_Disk_1/Hospital_Microbiome/Data/Modeling/Models/generate_models.sh\n"
     ]
    }
   ],
   "source": [
    "carve_file_path = model_path + 'generate_models.sh'\n",
    "with open(carve_file_path, \"w\") as f:\n",
    "    f.write(\"#!/bin/bash\\n\")\n",
    "    for idx, row in genome_info.iterrows():\n",
    "        f.write(f\"carve --refseq {row['assembly_accession']} -o {idx.replace(' ', '_')}.xml --solver cplex -u {'grampos' if row['gram_staining'] == 'positive' else 'gramneg'}\\n\")\n",
    "\n",
    "# Print the completion message\n",
    "print(f\"Generated bash commands written to {carve_file_path}\")"
   ]
  },
  {
   "cell_type": "code",
   "execution_count": 8,
   "metadata": {},
   "outputs": [
    {
     "name": "stdout",
     "output_type": "stream",
     "text": [
      "Invalid accession code\n",
      "Failed to download genome from NCBI.\n",
      "Invalid accession code\n",
      "Failed to download genome from NCBI.\n",
      "Invalid accession code\n",
      "Failed to download genome from NCBI.\n",
      "Invalid accession code\n",
      "Failed to download genome from NCBI.\n"
     ]
    }
   ],
   "source": [
    "# Run the bash script\n",
    "os.chdir(model_path)\n",
    "\n",
    "!chmod +x {carve_file_path}\n",
    "!{carve_file_path}"
   ]
  },
  {
   "cell_type": "code",
   "execution_count": 15,
   "metadata": {},
   "outputs": [
    {
     "data": {
      "text/html": [
       "<div>\n",
       "<style scoped>\n",
       "    .dataframe tbody tr th:only-of-type {\n",
       "        vertical-align: middle;\n",
       "    }\n",
       "\n",
       "    .dataframe tbody tr th {\n",
       "        vertical-align: top;\n",
       "    }\n",
       "\n",
       "    .dataframe thead th {\n",
       "        text-align: right;\n",
       "    }\n",
       "</style>\n",
       "<table border=\"1\" class=\"dataframe\">\n",
       "  <thead>\n",
       "    <tr style=\"text-align: right;\">\n",
       "      <th></th>\n",
       "      <th>assembly_accession</th>\n",
       "      <th>gram_staining</th>\n",
       "    </tr>\n",
       "    <tr>\n",
       "      <th>organism_name</th>\n",
       "      <th></th>\n",
       "      <th></th>\n",
       "    </tr>\n",
       "  </thead>\n",
       "  <tbody>\n",
       "    <tr>\n",
       "      <th>Sphingomonas echinoides</th>\n",
       "      <td>GCF_029623395.1</td>\n",
       "      <td>negative</td>\n",
       "    </tr>\n",
       "    <tr>\n",
       "      <th>Kocuria atrinae</th>\n",
       "      <td>GCF_000286355.1</td>\n",
       "      <td>positive</td>\n",
       "    </tr>\n",
       "    <tr>\n",
       "      <th>Deinococcus geothermalis</th>\n",
       "      <td>GCF_002384255.1</td>\n",
       "      <td>positive</td>\n",
       "    </tr>\n",
       "    <tr>\n",
       "      <th>Enhydrobacter aerosaccus</th>\n",
       "      <td>GCF_001188545.1</td>\n",
       "      <td>negative</td>\n",
       "    </tr>\n",
       "  </tbody>\n",
       "</table>\n",
       "</div>"
      ],
      "text/plain": [
       "                         assembly_accession gram_staining\n",
       "organism_name                                            \n",
       "Sphingomonas echinoides     GCF_029623395.1      negative\n",
       "Kocuria atrinae             GCF_000286355.1      positive\n",
       "Deinococcus geothermalis    GCF_002384255.1      positive\n",
       "Enhydrobacter aerosaccus    GCF_001188545.1      negative"
      ]
     },
     "execution_count": 15,
     "metadata": {},
     "output_type": "execute_result"
    }
   ],
   "source": [
    "# Check all generated models\n",
    "models = glob.glob(model_path + '*.xml')\n",
    "models = [item.replace(model_path, '') for item in models]\n",
    "models = [item.replace('.xml', '') for item in models]\n",
    "models = [item.replace('_', ' ') for item in models]\n",
    "\n",
    "models\n",
    "\n",
    "# Check non-generated models\n",
    "model_ng = list(set(genome_info.index) - set(models))\n",
    "model_ng\n",
    "\n",
    "# Print accession for the genomes\n",
    "missing_genome_info = genome_info.loc[model_ng]\n",
    "missing_genome_info"
   ]
  }
 ],
 "metadata": {
  "kernelspec": {
   "display_name": "py3.10",
   "language": "python",
   "name": "python3"
  },
  "language_info": {
   "codemirror_mode": {
    "name": "ipython",
    "version": 3
   },
   "file_extension": ".py",
   "mimetype": "text/x-python",
   "name": "python",
   "nbconvert_exporter": "python",
   "pygments_lexer": "ipython3",
   "version": "3.10.14"
  }
 },
 "nbformat": 4,
 "nbformat_minor": 2
}
